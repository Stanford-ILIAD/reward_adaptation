{
 "cells": [
  {
   "cell_type": "code",
   "execution_count": 2,
   "metadata": {},
   "outputs": [],
   "source": [
    "import numpy as np\n",
    "import matplotlib.pyplot as plt\n",
    "import copy\n",
    "import sklearn.metrics.pairwise \n",
    "import scipy\n",
    "%matplotlib inline\n",
    "plt.style.use(['ggplot'])\n"
   ]
  },
  {
   "cell_type": "code",
   "execution_count": null,
   "metadata": {},
   "outputs": [],
   "source": [
    "# source policy \n",
    "Ks =  np.array([[0.00334441, 0.0], [0.0, 0.10033222]])"
   ]
  },
  {
   "cell_type": "markdown",
   "metadata": {},
   "source": [
    "# Testing Reflections"
   ]
  },
  {
   "cell_type": "code",
   "execution_count": 3,
   "metadata": {},
   "outputs": [
    {
     "name": "stdout",
     "output_type": "stream",
     "text": [
      "[[31 45]\n",
      " [21 36]\n",
      " [13 17]\n",
      " [28  9]\n",
      " [23 44]\n",
      " [ 8 12]\n",
      " [39  4]\n",
      " [ 4 21]\n",
      " [ 2 21]\n",
      " [18 23]]\n"
     ]
    }
   ],
   "source": [
    "N = 10\n",
    "X = np.random.randint(1, 51, (N, 2)) # (2 X N)\n",
    "print(X)"
   ]
  },
  {
   "cell_type": "code",
   "execution_count": 4,
   "metadata": {},
   "outputs": [],
   "source": [
    "def  cal_cost(theta,X,y):\n",
    "    '''\n",
    "    \n",
    "    Calculates the cost for given X and Y. The following shows and example of a single dimensional X\n",
    "    theta = Vector of thetas \n",
    "    X     = Row of X's np.zeros((2,j))\n",
    "    y     = Actual y's np.zeros((2,1))\n",
    "    \n",
    "    where:\n",
    "        j is the no of features\n",
    "    '''\n",
    "    \n",
    "    m = len(y)\n",
    "    \n",
    "    predictions = X.dot(theta)\n",
    "    cost = (1/2*m) * np.sum(np.square(predictions-y))\n",
    "    return cost\n",
    "\n",
    "def gradient_descent(X,y,theta,learning_rate=0.01,iterations=100):\n",
    "    '''\n",
    "    X    = Matrix of X with added bias units\n",
    "    y    = Vector of Y\n",
    "    theta=Vector of thetas np.random.randn(j,1)\n",
    "    learning_rate \n",
    "    iterations = no of iterations\n",
    "    \n",
    "    Returns the final theta vector and array of cost history over no of iterations\n",
    "    '''\n",
    "    m = len(y)\n",
    "    cost_history = np.zeros(iterations)\n",
    "    theta_history = np.zeros((iterations,2))\n",
    "    for it in range(iterations):\n",
    "        \n",
    "        prediction = np.dot(X,theta)\n",
    "        \n",
    "        #theta = theta -(1/m)*learning_rate*( X.T.dot((prediction - y)))\n",
    "        theta = theta -(1/m)*learning_rate*( X.T.dot((prediction - y)))\n",
    "        #theta_history[it,:] =theta.T\n",
    "        cost_history[it]  = cal_cost(theta,X,y)\n",
    "        \n",
    "    return theta, cost_history#, theta_history"
   ]
  },
  {
   "cell_type": "markdown",
   "metadata": {},
   "source": [
    "# Reflection vs Translation"
   ]
  },
  {
   "cell_type": "code",
   "execution_count": 32,
   "metadata": {},
   "outputs": [
    {
     "name": "stdout",
     "output_type": "stream",
     "text": [
      "trans: \n",
      " [[0. 0.]\n",
      " [0. 1.]] \n",
      "\n",
      " u: [ 0. 45.]\n",
      "\n",
      "ref: \n",
      " [[ 1.  0.]\n",
      " [ 0. -1.]] \n",
      "\n",
      " u: [ 31. -45.]\n"
     ]
    },
    {
     "data": {
      "text/plain": [
       "[50, 52]"
      ]
     },
     "execution_count": 32,
     "metadata": {},
     "output_type": "execute_result"
    }
   ],
   "source": [
    "op = ['x_trans','x_ref']\n",
    "R = {\n",
    "    'x_ref': np.array([[1.0, 0.0], \n",
    "                       [0.0, -1.0]]),  # reflection on x ais\n",
    "    \n",
    "    'y_ref': np.array([[-1.0, 0.0], \n",
    "                        [0.0, 1.0]]),  # reflection on y axis\n",
    "    \n",
    "    'y=x_ref': np.array([[0.0, 1.0], \n",
    "                        [1.0, 0.0]]),  # reflection on y=x\n",
    "    \n",
    "    'y=-x_ref': np.array([[0.0, -1.0], \n",
    "                        [-1.0, 0.0]]),  # reflection on y=-x\n",
    "    \n",
    "    'origin_ref': np.array([[-1.0, 0.0], \n",
    "                         [0.0, -1.0]]), # reflection on origin \n",
    "    \n",
    "    'x_trans': np.array([[-1.0, 0.0], \n",
    "                        [0.0, 0.0]]), \n",
    "\n",
    "}\n",
    "\n",
    "lr = 0.001\n",
    "n_iter = 100\n",
    "tolerance  = 0.001\n",
    "\n",
    "# source policy\n",
    "Ks = np.eye(2)\n",
    "#Ks = np.array([[0.001, -3.0], [0.0, 0.348]])\n",
    "us = X@Ks.T \n",
    "\n",
    "# translated target policy\n",
    "K_rot = R[op[0]] + Ks  \n",
    "u_rot = X@K_rot.T \n",
    "\n",
    "# reflected target policy\n",
    "K_ref = R[op[1]] @ Ks  \n",
    "u_ref = X@K_ref.T \n",
    "\n",
    "# print(\"src u: \", us[0])\n",
    "print(\"trans: \\n\", K_rot,\"\\n\\n u:\", u_rot[0])\n",
    "print(\"\\nref: \\n\", K_ref, \"\\n\\n u:\", u_ref[0])\n",
    "\n",
    "theta_rot, cost_history_rot = gradient_descent(X, u_rot, Ks, lr, n_iter)\n",
    "theta_ref, cost_history_ref = gradient_descent(X, u_ref, Ks, lr, n_iter)\n",
    "print(\"theta trans: \", theta_rot)\n",
    "rot_steps = np.where(cost_history_rot <= tolerance)[0][0]\n",
    "ref_steps = np.where(cost_history_ref <= tolerance)[0][0]\n",
    "\n",
    "n_gradient_steps = [rot_steps, ref_steps]\n",
    "n_gradient_steps"
   ]
  },
  {
   "cell_type": "code",
   "execution_count": 33,
   "metadata": {},
   "outputs": [
    {
     "data": {
      "text/plain": [
       "<matplotlib.collections.PathCollection at 0x1a1f035810>"
      ]
     },
     "execution_count": 33,
     "metadata": {},
     "output_type": "execute_result"
    },
    {
     "data": {
      "image/png": "[encoded data removed]",
      "text/plain": [
       "<Figure size 1152x360 with 2 Axes>"
      ]
     },
     "metadata": {
      "needs_background": "light"
     },
     "output_type": "display_data"
    }
   ],
   "source": [
    "# Plotting sample complexity\n",
    "\n",
    "def autolabel(rects):\n",
    "    \"\"\"Attach a text label above each bar in *rects*, displaying its height.\"\"\"\n",
    "    for rect in rects:\n",
    "        height = rect.get_height()\n",
    "        axs[0].annotate('{}'.format(height),\n",
    "            xy=(rect.get_x() + rect.get_width() / 2, height-5),\n",
    "            xytext=(0, 3),  # 3 points vertical offset\n",
    "            textcoords=\"offset points\",\n",
    "            fontsize=18,\n",
    "            color=\"white\",\n",
    "            ha='center', va='bottom')\n",
    "        \n",
    "\n",
    "fig,axs = plt.subplots(1,2,figsize=(16,5))\n",
    "x = [i for i in range(2)]\n",
    "axs[0].set_title(\"{} v {}\".format(op[0], op[1]))\n",
    "axs[0].set_ylabel('# Gradient steps')\n",
    "axs[0].set_xticks(x)\n",
    "axs[0].set_xticklabels(['Rotation', 'Reflection'])\n",
    "\n",
    "bar = axs[0].bar(x, n_gradient_steps, color=['b', 'g'], alpha=0.8)\n",
    "autolabel(bar)\n",
    "\n",
    "axs[1].set_title(\"Example points with source point: ({}, {})\".format(us[0][0], us[0][1]))\n",
    "axs[1].scatter(x=[us[0][0], u_rot[0][0], u_ref[0][0]], \n",
    "           y = [us[0][1], u_rot[0][1], u_ref[0][1]], \n",
    "           c=['grey', 'b', 'g'])\n",
    "\n",
    "#plt.savefig(\"output/matmul/{},{}.pdf\".format(op[0], op[1]), bbox_inches='tight')"
   ]
  },
  {
   "cell_type": "markdown",
   "metadata": {},
   "source": [
    "# Reflection vs Rotation"
   ]
  },
  {
   "cell_type": "code",
   "execution_count": 186,
   "metadata": {},
   "outputs": [
    {
     "data": {
      "text/plain": [
       "[25, 30]"
      ]
     },
     "execution_count": 186,
     "metadata": {},
     "output_type": "execute_result"
    }
   ],
   "source": [
    "op = ['270_rot','x_ref']\n",
    "R = {\n",
    "    'x_ref': np.array([[1.0, 0.0], \n",
    "                       [0.0, -1.0]]),  # reflection on x ais\n",
    "    \n",
    "    'y_ref': np.array([[-1.0, 0.0], \n",
    "                        [0.0, 1.0]]),  # reflection on y axis\n",
    "    \n",
    "    'y=x_ref': np.array([[0.0, 1.0], \n",
    "                        [1.0, 0.0]]),  # reflection on y=x\n",
    "    \n",
    "    'y=-x_ref': np.array([[0.0, -1.0], \n",
    "                        [-1.0, 0.0]]),  # reflection on y=-x\n",
    "    \n",
    "    'origin_ref': np.array([[-1.0, 0.0], \n",
    "                         [0.0, -1.0]]), # reflection on origin \n",
    "    \n",
    "    '0_rot': np.eye(2),\n",
    "\n",
    "    \n",
    "    '90_rot': np.array([[0.0, -1.0], \n",
    "                        [1.0, 0.0]]), \n",
    "    \n",
    "    '180_rot': np.array([[-1.0, 0.0], \n",
    "                         [0.0, -1.0]]),\n",
    "    \n",
    "    '270_rot': np.array([[0.0, 1.0], \n",
    "                        [-1.0, 0.0]]),\n",
    "}\n",
    "\n",
    "lr = 0.001\n",
    "n_iter = 100\n",
    "tolerance  = 0.001\n",
    "\n",
    "# source policy\n",
    "#Ks = np.eye(2)\n",
    "Ks = np.array([[0.001, -3.0], [0.0, 0.348]])\n",
    "us = X@Ks.T \n",
    "\n",
    "# rotated target policy\n",
    "K_rot = R[op[0]] @ Ks  \n",
    "u_rot = X@K_rot.T \n",
    "\n",
    "# reflected target policy\n",
    "K_ref = R[op[1]] @ Ks  \n",
    "u_ref = X@K_ref.T \n",
    "\n",
    "# print(\"src u: \", us[0])\n",
    "# print(\"rot u: \", u_rot[0])\n",
    "# print(\"ref u: \", u_ref[0])\n",
    "\n",
    "theta_rot, cost_history_rot = gradient_descent(X, u_rot, Ks, lr, n_iter)\n",
    "theta_ref, cost_history_ref = gradient_descent(X, u_ref, Ks, lr, n_iter)\n",
    "\n",
    "rot_steps = np.where(cost_history_rot <= tolerance)[0][0]\n",
    "ref_steps = np.where(cost_history_ref <= tolerance)[0][0]\n",
    "\n",
    "n_gradient_steps = [rot_steps, ref_steps]\n",
    "n_gradient_steps"
   ]
  },
  {
   "cell_type": "code",
   "execution_count": 187,
   "metadata": {},
   "outputs": [
    {
     "data": {
      "text/plain": [
       "<matplotlib.collections.PathCollection at 0x1a186d89d0>"
      ]
     },
     "execution_count": 187,
     "metadata": {},
     "output_type": "execute_result"
    },
    {
     "data": {
      "image/png": "[encoded data removed]",
      "text/plain": [
       "<Figure size 1152x360 with 2 Axes>"
      ]
     },
     "metadata": {
      "needs_background": "light"
     },
     "output_type": "display_data"
    }
   ],
   "source": [
    "# Plotting sample complexity\n",
    "\n",
    "def autolabel(rects):\n",
    "    \"\"\"Attach a text label above each bar in *rects*, displaying its height.\"\"\"\n",
    "    for rect in rects:\n",
    "        height = rect.get_height()\n",
    "        axs[0].annotate('{}'.format(height),\n",
    "            xy=(rect.get_x() + rect.get_width() / 2, height-5),\n",
    "            xytext=(0, 3),  # 3 points vertical offset\n",
    "            textcoords=\"offset points\",\n",
    "            fontsize=18,\n",
    "            color=\"white\",\n",
    "            ha='center', va='bottom')\n",
    "        \n",
    "\n",
    "fig,axs = plt.subplots(1,2,figsize=(16,5))\n",
    "x = [[i for i in range(2)] for _ in range(n_Ks)]\n",
    "axs[0].set_title(\"{} v {}\".format(op[0], op[1]))\n",
    "axs[0].set_ylabel('# Gradient steps')\n",
    "axs[0].set_xticks(x[0])\n",
    "axs[0].set_xticklabels(['Rotation', 'Reflection'])\n",
    "\n",
    "bar = axs[0].bar(x[0], n_gradient_steps, color=['b', 'g'], alpha=0.8)\n",
    "autolabel(bar)\n",
    "\n",
    "axs[1].set_title(\"Example points with source point: ({}, {})\".format(us[0][0], us[0][1]))\n",
    "axs[1].scatter(x=[us[0][0], u_rot[0][0], u_ref[0][0]], \n",
    "           y = [us[0][1], u_rot[0][1], u_ref[0][1]], \n",
    "           c=['grey', 'b', 'g'])\n",
    "\n",
    "#plt.savefig(\"output/matmul/{},{}.pdf\".format(op[0], op[1]), bbox_inches='tight')"
   ]
  },
  {
   "cell_type": "markdown",
   "metadata": {},
   "source": [
    "# Operation vs No Op (Fine-tune vs Direct)"
   ]
  },
  {
   "cell_type": "code",
   "execution_count": 35,
   "metadata": {},
   "outputs": [],
   "source": [
    "#np.random.seed(seed=1)\n",
    "op = '-45_ref'\n",
    "R = {\n",
    "    '0_ref': np.array([[1.0, 0.0], [0.0, -1.0]]),\n",
    "    '90_ref': np.array([[-1.0, 0.0], [0.0, 1.0]]), \n",
    "    '45_ref': np.array([[0.0, 1.0], [1.0, 0.0]]),\n",
    "    '-45_ref': np.array([[0.0, -1.0], [-1.0, 0.0]]),\n",
    "    \n",
    "    '0_rot': np.eye(2),\n",
    "    \n",
    "    '45_rot': np.array([[1.0, -1.0], \n",
    "                        [1.0, 1.0]]),\n",
    "    \n",
    "    '90_rot': np.array([[0.0, -1.0], \n",
    "                        [1.0, 0.0]]), \n",
    "    \n",
    "    '180_rot': np.array([[-1.0, 0.0], \n",
    "                         [0.0, -1.0]]),\n",
    "}\n",
    "\n",
    "lr = 0.001\n",
    "n_iter = 100\n",
    "n_Ks = 1000\n",
    "tolerance  = 0.001\n",
    "n_gradient_steps = np.zeros((n_Ks, 2))\n",
    "\n",
    "for i in range(n_Ks):\n",
    "    # source policy\n",
    "    Ks = np.eye(2)\n",
    "    us = X@Ks.T \n",
    "\n",
    "    # target policy\n",
    "    Kt = R[op] @ Ks  \n",
    "    ut = X@Kt.T \n",
    "        \n",
    "    theta_random = np.random.randn(2,2)\n",
    "    theta_t, cost_history_t = gradient_descent(X, ut, theta_random, lr, n_iter)\n",
    "    theta_st, cost_history_st = gradient_descent(X, ut, Ks, lr, n_iter)\n",
    "    t_steps = np.where(cost_history_t <= tolerance)[0][0]\n",
    "    st_steps = np.where(cost_history_st <= tolerance)[0][0]\n",
    "    \n",
    "    n_gradient_steps[i,:] = [st_steps, t_steps]"
   ]
  },
  {
   "cell_type": "code",
   "execution_count": 36,
   "metadata": {},
   "outputs": [
    {
     "data": {
      "image/png": "[encoded data removed]",
      "text/plain": [
       "<Figure size 864x576 with 1 Axes>"
      ]
     },
     "metadata": {
      "needs_background": "light"
     },
     "output_type": "display_data"
    }
   ],
   "source": [
    "# Plotting sample complexity\n",
    "\n",
    "def autolabel(rects):\n",
    "    \"\"\"Attach a text label above each bar in *rects*, displaying its height.\"\"\"\n",
    "    for rect in rects:\n",
    "        height = rect.get_height()\n",
    "        ax.annotate('{}'.format(height),\n",
    "            xy=(rect.get_x() + rect.get_width() / 2, height-5),\n",
    "            xytext=(0, 3),  # 3 points vertical offset\n",
    "            textcoords=\"offset points\",\n",
    "            fontsize=18,\n",
    "            color=\"white\",\n",
    "            ha='center', va='bottom')\n",
    "        \n",
    "\n",
    "fig,ax = plt.subplots(figsize=(12,8))\n",
    "x = [[i for i in range(2)] for _ in range(n_Ks)]\n",
    "ax.set_title(\"{}, {} random starts\".format(op, n_Ks))\n",
    "ax.set_ylabel('# Gradient steps')\n",
    "ax.set_xticks(x[0])\n",
    "ax.set_xticklabels(['Fine-tuned', 'Direct'])\n",
    "\n",
    "bar = ax.bar(x[0], np.mean(n_gradient_steps, axis=0), yerr=np.std(n_gradient_steps, axis=0), color=['b', 'g'], alpha=0.8)\n",
    "autolabel(bar)\n",
    "\n",
    "#plt.savefig(\"output/matmul/{}.pdf\".format(op), bbox_inches='tight')"
   ]
  },
  {
   "cell_type": "markdown",
   "metadata": {},
   "source": [
    "# Extra code "
   ]
  },
  {
   "cell_type": "code",
   "execution_count": null,
   "metadata": {},
   "outputs": [],
   "source": [
    "N = 10\n",
    "reflection = '45_ref'\n",
    "R = {\n",
    "    '0_ref': np.eye(2),\n",
    "    '90_ref': np.array([[-1.0, 0.0], [0.0, 1.0]]), \n",
    "    '45_ref': np.array([[0.0, 1.0], [1.0, 0.0]]),\n",
    "    '-45_ref': np.array([[0.0, -1.0], [-1.0, 0.0]])\n",
    "}\n",
    "ep = 0.001\n",
    "\n",
    "# gradient descent params\n",
    "lr = 0.001\n",
    "n_iter = 100\n",
    "n_Ks = 1\n",
    "\n",
    "diff = np.zeros((n_Ks, 2))\n",
    "for i in range(n_Ks):\n",
    "    # source policy\n",
    "    #Ks = np.random.uniform(-1, 1.1, (2,2))\n",
    "    #Ks =  np.array([[0.00334441, 0.0], [0.0, 0.10033222]])\n",
    "    Ks = np.eye(2)\n",
    "    us = X @ Ks\n",
    "\n",
    "    # target policy\n",
    "    Kt = Ks @ R[reflection]\n",
    "    ut = X @ Kt\n",
    "        \n",
    "    theta_random = np.random.randn(2,2)\n",
    "    theta_t, cost_history_t = gradient_descent(X, ut, theta_random, lr, n_iter)\n",
    "    theta_st, cost_history_st = gradient_descent(X, ut, Ks, lr, n_iter)\n",
    "\n",
    "    st_steps = np.where(cost_history_st <= ep)[0][0]\n",
    "    t_steps = np.where(cost_history_t <= ep)[0][0]\n",
    "    diff[i, :] = [st_steps, t_steps]\n",
    "    \n",
    "    Ur, Sr, VTr = np.linalg.svd(theta_random)\n",
    "    Ut, St, VTt = np.linalg.svd(Kt)\n",
    "    Us, Ss, VTs = np.linalg.svd(Ks)\n",
    "\n",
    "    print(\"cosine similarity between eigenvectors\")\n",
    "    for U in [Ur, Us]:\n",
    "        print(\"\\n\")\n",
    "        for idx in range(U.shape[1]):\n",
    "            cosine_sim = sklearn.metrics.pairwise.cosine_similarity([U[idx,:]], [Ut[idx,:]])[0][0]\n",
    "            #cosine_dist = scipy.spatial.distance.cosine(U[idx,:], Ut[idx, :])\n",
    "            print(idx, cosine_sim)\n",
    "            #print(\"sim: \", 1.0-cosine_dist)\n",
    "    #random_opt = np.linalg.norm(theta_random-Kt)\n",
    "    #source_opt = np.linalg.norm(Ks-Kt)\n"
   ]
  },
  {
   "cell_type": "code",
   "execution_count": null,
   "metadata": {},
   "outputs": [],
   "source": [
    "def autolabel(rects):\n",
    "    \"\"\"Attach a text label above each bar in *rects*, displaying its height.\"\"\"\n",
    "    for rect in rects:\n",
    "        height = rect.get_height()\n",
    "        ax.annotate('{}'.format(height),\n",
    "            xy=(rect.get_x() + rect.get_width() / 2, height-5),\n",
    "            xytext=(0, 3),  # 3 points vertical offset\n",
    "            textcoords=\"offset points\",\n",
    "            fontsize=18,\n",
    "            color=\"white\",\n",
    "            ha='center', va='bottom')\n",
    "        \n",
    "\n",
    "fig,ax = plt.subplots(figsize=(12,8))\n",
    "x = [[i for i in range(2)] for _ in range(n_Ks)]\n",
    "ax.set_title(\"{}, {} random starts\".format(reflection, n_Ks))\n",
    "ax.set_ylabel('# Gradient steps')\n",
    "ax.set_xticks(x[0])\n",
    "ax.set_xticklabels(['Fine-tuned', 'Direct'])\n",
    "\n",
    "bar =ax.bar(x[0], np.mean(diff, axis=0), yerr=np.std(diff, axis=0), color=['b', 'g'], alpha=0.8)\n",
    "autolabel(bar)"
   ]
  },
  {
   "cell_type": "code",
   "execution_count": null,
   "metadata": {},
   "outputs": [],
   "source": [
    "#np.random.seed(seed=1)\n",
    "reflection = '0_ref'\n",
    "R = {\n",
    "    '0_ref': np.array([[1.0, 0.0], [0.0, -1.0]]),\n",
    "    '90_ref': np.array([[-1.0, 0.0], [0.0, 1.0]]), \n",
    "    '45_ref': np.array([[0.0, 1.0], [1.0, 0.0]]),\n",
    "    '-45_ref': np.array([[0.0, -1.0], [-1.0, 0.0]]),\n",
    "    \n",
    "    '0_rot': np.eye(2),\n",
    "    \n",
    "    '45_rot': np.array([[1.0, -1.0], \n",
    "                        [1.0, 1.0]]),\n",
    "    \n",
    "    '90_rot': np.array([[0.0, -1.0], \n",
    "                        [1.0, 0.0]]), \n",
    "    \n",
    "    '180_rot': np.array([[-1.0, 0.0], \n",
    "                         [0.0, -1.0]]),\n",
    "}\n",
    "\n",
    "lr = 0.001\n",
    "n_iter = 100\n",
    "n_Ks = 1\n",
    "ep = 0.001\n",
    "\n",
    "\n",
    "diff = np.zeros((n_Ks, 2))\n",
    "for i in range(n_Ks):\n",
    "    # source policy\n",
    "    #Ks = np.random.uniform(-1, 1.1, (2,2))\n",
    "    #Ks =  np.array([[0.00334441, 0.0], [0.0, 0.10033222]])\n",
    "    Ks = np.eye(2)\n",
    "    us = Ks @ X  # (2 x N)\n",
    "    assert ((us == Ks.dot(X)).all())\n",
    "\n",
    "    # target policy\n",
    "    Kt = R[reflection] @ Ks  \n",
    "    ut = Kt @ X  # (2 x N)\n",
    "    assert (us.shape == ut.shape == (2,N))\n",
    "        \n",
    "    theta_random = np.random.randn(2,2)\n",
    "    theta_t, cost_history_t = gradient_descent(X.T, ut.T, theta_random, lr, n_iter)\n",
    "    print(theta_t)\n",
    "    print(\"\\nGT theta: \",  Kt)\n",
    "    print(\"GT ut: \", ut)\n",
    "    print(cost_history_t[-1])\n",
    "    \n",
    "    \n",
    "#     theta_st, cost_history_st = gradient_descent(X, ut, Ks, lr, n_iter)\n",
    "    \n",
    "#     st_steps = np.where(cost_history_st <= ep)[0][0]\n",
    "#     t_steps = np.where(cost_history_t <= ep)[0][0]\n",
    "    \n",
    "#     diff[i, :] = [st_steps, t_steps]\n",
    "\n"
   ]
  }
 ],
 "metadata": {
  "kernelspec": {
   "display_name": "Python 3",
   "language": "python",
   "name": "python3"
  },
  "language_info": {
   "codemirror_mode": {
    "name": "ipython",
    "version": 3
   },
   "file_extension": ".py",
   "mimetype": "text/x-python",
   "name": "python",
   "nbconvert_exporter": "python",
   "pygments_lexer": "ipython3",
   "version": "3.7.4"
  }
 },
 "nbformat": 4,
 "nbformat_minor": 2
}
