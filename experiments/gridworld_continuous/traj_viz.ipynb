{
 "cells": [
  {
   "cell_type": "code",
   "execution_count": 1,
   "metadata": {},
   "outputs": [],
   "source": [
    "import numpy as np\n",
    "import matplotlib.pyplot as plt\n",
    "import pandas as pd\n",
    "import ast \n",
    "from matplotlib import animation, rc\n",
    "from IPython.display import HTML"
   ]
  },
  {
   "cell_type": "code",
   "execution_count": 4,
   "metadata": {},
   "outputs": [
    {
     "name": "stderr",
     "output_type": "stream",
     "text": [
      "/Users/Minae/anaconda3/envs/reward_adaptation/lib/python3.7/site-packages/IPython/core/interactiveshell.py:3058: DtypeWarning: Columns (100,101) have mixed types. Specify dtype option on import or set low_memory=False.\n",
      "  interactivity=interactivity, compiler=compiler, result=result)\n"
     ]
    },
    {
     "name": "stdout",
     "output_type": "stream",
     "text": [
      "1718\n"
     ]
    }
   ],
   "source": [
    "LETTERS = 'ABCDEFGHIJKLMNOPQRSTUVWXYZ'\n",
    "\n",
    "def excel_style(col):\n",
    "    \"\"\" Convert given row and column number to an Excel-style cell name. \"\"\"\n",
    "    result = []\n",
    "    while col:\n",
    "        col, rem = divmod(col-1, 26)\n",
    "        result[:0] = LETTERS[rem]\n",
    "    return ''.join(result)\n",
    "\n",
    "cols = []\n",
    "for col_no in range(1, 1000):\n",
    "    cols.append(excel_style(col_no))\n",
    "model = \"B0R\"\n",
    "df = pd.read_csv(\"../../output/gridworld_continuous/{}/trajs.csv\".format(model), names=cols)\n",
    "training_steps = []\n",
    "trajs = []\n",
    "for ridx, row in df.iterrows():\n",
    "    traj = []\n",
    "    for cidx, col in enumerate(list(df)):\n",
    "        elem = df.iloc[ridx, cidx]\n",
    "        if cidx == 0:\n",
    "            training_steps.append(elem)\n",
    "        else:\n",
    "            if pd.isna(elem):  # if we find Nan, just repeat last element\n",
    "                traj.append(traj[-1])\n",
    "            else:\n",
    "                elem = np.array(elem[1:-1].split()).astype(float)\n",
    "                traj.append(elem)\n",
    "    trajs.append(np.stack(traj))\n",
    "\n",
    "print(len(training_steps))"
   ]
  },
  {
   "cell_type": "code",
   "execution_count": null,
   "metadata": {
    "scrolled": false
   },
   "outputs": [],
   "source": [
    "from matplotlib.pyplot import figure\n",
    "from matplotlib.patches import Circle, Rectangle\n",
    "from matplotlib.animation import FuncAnimation\n",
    "rc('animation', html='html5')\n",
    "\n",
    "width = 50\n",
    "height = 50\n",
    "fig, ax = plt.subplots(figsize=(10,10))\n",
    "ax.set_xlim(0,50)\n",
    "ax.set_ylim(0,50)\n",
    "ln, = ax.plot([],[], lw=4)\n",
    "txt = plt.text(0,0,'a', fontsize=28)\n",
    "goal = Circle((width/2., height-5.), 5)\n",
    "ax.add_artist(goal)\n",
    "if ('0' not in model[1]):\n",
    "    #if len(model)<8:\n",
    "    barrier_size = int(model[1])\n",
    "    #else:\n",
    "    #    barrier_size = int(model[7])\n",
    "    print(barrier_size)\n",
    "    centerx, centery = width/2., height/2.\n",
    "    barrier = Rectangle((centerx-(barrier_size/2.), centery-(barrier_size/2.)), barrier_size, barrier_size)\n",
    "    ax.add_artist(barrier)\n",
    "\n",
    "\n",
    "def init():\n",
    "    ln.set_data([],[])\n",
    "    return ln,\n",
    "\n",
    "def animate(i):\n",
    "    ln.set_data(trajs[i][:,0], trajs[i][:,1])\n",
    "    #ax.text(0,0,training_steps[i])\n",
    "    txt.set_text(training_steps[i])\n",
    "    return ln,\n",
    "    \n",
    "anim = FuncAnimation(fig, animate, init_func=init,\n",
    "                    frames=len(training_steps), interval=40, blit=True)\n",
    "anim"
   ]
  },
  {
   "cell_type": "code",
   "execution_count": 77,
   "metadata": {},
   "outputs": [],
   "source": [
    "Writer = animation.writers['ffmpeg']\n",
    "writer = Writer(fps=20, metadata=dict(artist='Me'), bitrate=1800)\n",
    "anim.save('../../output/gridworld_continuous/vids/{}.mp4'.format(model), writer=writer)"
   ]
  },
  {
   "cell_type": "code",
   "execution_count": null,
   "metadata": {},
   "outputs": [],
   "source": []
  }
 ],
 "metadata": {
  "kernelspec": {
   "display_name": "Python 3",
   "language": "python",
   "name": "python3"
  },
  "language_info": {
   "codemirror_mode": {
    "name": "ipython",
    "version": 3
   },
   "file_extension": ".py",
   "mimetype": "text/x-python",
   "name": "python",
   "nbconvert_exporter": "python",
   "pygments_lexer": "ipython3",
   "version": "3.7.4"
  }
 },
 "nbformat": 4,
 "nbformat_minor": 2
}
