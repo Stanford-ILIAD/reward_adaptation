{
 "cells": [
  {
   "cell_type": "code",
   "execution_count": 1,
   "metadata": {},
   "outputs": [],
   "source": [
    "import numpy as np\n",
    "import matplotlib.pyplot as plt\n",
    "import copy\n",
    "import sklearn.metrics.pairwise \n",
    "import scipy\n",
    "%matplotlib inline\n",
    "plt.style.use(['ggplot'])"
   ]
  },
  {
   "cell_type": "code",
   "execution_count": 2,
   "metadata": {},
   "outputs": [
    {
     "name": "stdout",
     "output_type": "stream",
     "text": [
      "[[16 14]\n",
      " [48 30]\n",
      " [41 30]\n",
      " [37 30]\n",
      " [37 23]\n",
      " [ 8 34]\n",
      " [20 14]\n",
      " [46 31]\n",
      " [14  9]\n",
      " [44  2]]\n"
     ]
    }
   ],
   "source": [
    "N = 10\n",
    "X = np.random.randint(1, 51, (N, 2)) # (2 X N)\n",
    "print(X)"
   ]
  },
  {
   "cell_type": "code",
   "execution_count": 3,
   "metadata": {},
   "outputs": [],
   "source": [
    "Reflections = {\n",
    "    'x': np.array([[1.0, 0.0], \n",
    "                       [0.0, -1.0]]),  # reflection on x ais\n",
    "    \n",
    "    'y': np.array([[-1.0, 0.0], \n",
    "                        [0.0, 1.0]]),  # reflection on y axis\n",
    "    \n",
    "    'y=x': np.array([[0.0, 1.0], \n",
    "                        [1.0, 0.0]]),  # reflection on y=x\n",
    "    \n",
    "    'y=-x': np.array([[0.0, -1.0], \n",
    "                        [-1.0, 0.0]]),  # reflection on y=-x\n",
    "    \n",
    "    'origin': np.array([[-1.0, 0.0], \n",
    "                         [0.0, -1.0]]), # reflection on origin \n",
    "\n",
    "}\n",
    "\n",
    "Tranlations = {\n",
    "    'x': np.array([[-1.0, 0.0], \n",
    "                        [0.0, 0.0]]),  \n",
    "}\n",
    "\n",
    "def  cal_cost(theta,X,y):\n",
    "    '''\n",
    "    \n",
    "    Calculates the cost for given X and Y. The following shows and example of a single dimensional X\n",
    "    theta = Vector of thetas \n",
    "    X     = Row of X's np.zeros((2,j))\n",
    "    y     = Actual y's np.zeros((2,1))\n",
    "    \n",
    "    where:\n",
    "        j is the no of features\n",
    "    '''\n",
    "    \n",
    "    m = len(y)\n",
    "    \n",
    "    predictions = X.dot(theta)\n",
    "    cost = (1/2*m) * np.sum(np.square(predictions-y))\n",
    "    return cost\n",
    "\n",
    "def gradient_descent(X,y,theta,learning_rate=0.01,iterations=100):\n",
    "    '''\n",
    "    X    = Matrix of X with added bias units\n",
    "    y    = Vector of Y\n",
    "    theta=Vector of thetas np.random.randn(j,1)\n",
    "    learning_rate \n",
    "    iterations = no of iterations\n",
    "    \n",
    "    Returns the final theta vector and array of cost history over no of iterations\n",
    "    '''\n",
    "    m = len(y)\n",
    "    cost_history = np.zeros(iterations)\n",
    "    theta_history = np.zeros((iterations,2))\n",
    "    for it in range(iterations):\n",
    "        \n",
    "        prediction = np.dot(X,theta)\n",
    "        \n",
    "        #theta = theta -(1/m)*learning_rate*( X.T.dot((prediction - y)))\n",
    "        theta = theta -(1/m)*learning_rate*( X.T.dot((prediction - y)))\n",
    "        #theta_history[it,:] =theta.T\n",
    "        cost_history[it]  = cal_cost(theta,X,y)\n",
    "        \n",
    "    return theta, cost_history#, theta_history\n",
    "\n"
   ]
  },
  {
   "cell_type": "code",
   "execution_count": null,
   "metadata": {},
   "outputs": [],
   "source": [
    "lr = 0.001\n",
    "n_iter = 100\n",
    "tolerance  = 0.001\n",
    "\n",
    "# source policy\n",
    "Ks = np.eye(2)\n",
    "#Ks = np.array([[0.001, -3.0], [0.0, 0.348]])\n",
    "us = X@Ks.T \n",
    "\n",
    "# translated target policy\n",
    "K_rot = R[op[0]] + Ks  \n",
    "u_rot = X@K_rot.T \n",
    "\n",
    "# reflected target policy\n",
    "K_ref = R[op[1]] @ Ks  \n",
    "u_ref = X@K_ref.T \n",
    "\n",
    "# print(\"src u: \", us[0])\n",
    "print(\"trans: \\n\", K_rot,\"\\n\\n u:\", u_rot[0])\n",
    "print(\"\\nref: \\n\", K_ref, \"\\n\\n u:\", u_ref[0])\n",
    "\n",
    "theta_rot, cost_history_rot = gradient_descent(X, u_rot, Ks, lr, n_iter)\n",
    "theta_ref, cost_history_ref = gradient_descent(X, u_ref, Ks, lr, n_iter)\n",
    "print(\"theta trans: \", theta_rot)\n",
    "rot_steps = np.where(cost_history_rot <= tolerance)[0][0]\n",
    "ref_steps = np.where(cost_history_ref <= tolerance)[0][0]\n",
    "\n",
    "n_gradient_steps = [rot_steps, ref_steps]\n",
    "n_gradient_steps"
   ]
  }
 ],
 "metadata": {
  "kernelspec": {
   "display_name": "Python 3",
   "language": "python",
   "name": "python3"
  },
  "language_info": {
   "codemirror_mode": {
    "name": "ipython",
    "version": 3
   },
   "file_extension": ".py",
   "mimetype": "text/x-python",
   "name": "python",
   "nbconvert_exporter": "python",
   "pygments_lexer": "ipython3",
   "version": "3.7.4"
  }
 },
 "nbformat": 4,
 "nbformat_minor": 2
}
